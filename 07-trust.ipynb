{
 "cells": [
  {
   "cell_type": "markdown",
   "metadata": {
    "collapsed": true,
    "pycharm": {
     "name": "#%% md\n"
    }
   },
   "source": [
    "# Trusting Hardware\n",
    "\n",
    "### The purpose of this exercise is to demonstrate that not only do you need to be careful about what software you install, but what your hardware may be doing.\n",
    "\n",
    "### In this exercise we will:\n",
    "\n",
    "<ul>\n",
    "<li>Connect to your Raspberry Pi Zero and Enviro board.</li>\n",
    "<li>Run a program that polls the temperature, pressure, humidity, and light sensors of the Enviro board.</li>\n",
    "<li>Trigger a pair of backdoor triggers in the hardware \"firmware\".</li>\n",
    "</ul>\n",
    "\n",
    "Note: Once you run the code, it may take a few seconds to start, and once you trigger the backdoor it might take a few minutes to find anything interesting.\n",
    "\n",
    "Warning: This example may cause paranoia about devices with always-on microphones such as Alexa or your phone."
   ]
  },
  {
   "cell_type": "markdown",
   "metadata": {},
   "source": [
    "This example only runs directly from the Raspberry Pi Zero with the Enviro board.  We will proceed assuming you are running under this configuration.\n",
    "\n",
    "Please make sure the Enviro board is facing upwards and run the following code sample, which will poll the temperature, barometric pressure, humidity, and light sensors."
   ]
  },
  {
   "cell_type": "code",
   "execution_count": null,
   "metadata": {
    "pycharm": {
     "name": "#%%\n"
    }
   },
   "outputs": [],
   "source": [
    "import trust\n",
    "\n",
    "trust.start()"
   ]
  },
  {
   "cell_type": "markdown",
   "metadata": {},
   "source": [
    "The polling loop should continue running \"forever\".\n",
    "\n",
    "# Trigger 1\n",
    "\n",
    "Now, place your hand over the enviroboard, and see what happens."
   ]
  },
  {
   "cell_type": "markdown",
   "metadata": {},
   "source": [
    "Thankfully, you likely didn't have any important information on this device, but what if it were connected to your private network?  As you can see the device mapped your network, using _nmap_, to see what devices were reachable.  Are you confident that all the devices on your network are secure enough that an rogue agent already on your network couldn't access them?  Next time you receive a electronic gift in the mail, be careful what you do with it.\n",
    "\n",
    "# Trigger 2\n",
    "\n",
    "Now we will trigger the second backdoor.  If you have a cell phone with a torch/flashlight feature or an actual flashlight point it directly at the enviroboard and see what happens."
   ]
  },
  {
   "cell_type": "markdown",
   "metadata": {},
   "source": [
    "As you can see pointing a bright light directly at the Envrio board forces the temperature sensor to always output 100C and so the system relying on this data has decided to activate the sprinkler system creating quite the distraction for the would be burglar. "
   ]
  },
  {
   "cell_type": "markdown",
   "metadata": {},
   "source": [
    "Suffice it to say that trust is a very big issue, especially for entities sensitive espionage, like corporation and the military."
   ]
  }
 ],
 "metadata": {
  "kernelspec": {
   "display_name": "Python 3",
   "language": "python",
   "name": "python3"
  },
  "language_info": {
   "codemirror_mode": {
    "name": "ipython",
    "version": 3
   },
   "file_extension": ".py",
   "mimetype": "text/x-python",
   "name": "python",
   "nbconvert_exporter": "python",
   "pygments_lexer": "ipython3",
   "version": "3.7.3"
  }
 },
 "nbformat": 4,
 "nbformat_minor": 1
}
