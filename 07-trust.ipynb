{
 "cells": [
  {
   "cell_type": "markdown",
   "metadata": {
    "collapsed": true,
    "pycharm": {
     "name": "#%% md\n"
    }
   },
   "source": [
    "# Trusting Hardware\n",
    "\n",
    "### The purpose of this exercise is to demonstrate that not only do you need to be careful about what software you install, but what your hardware may be doing.\n",
    "\n",
    "### In this exercise we will:\n",
    "\n",
    "<ul>\n",
    "<li>Connect to your Raspberry Pi Zero and Enviro board.</li>\n",
    "<li>Run a program that polls the temperature, pressure, humidity, and light sensors of the Enviro board.</li>\n",
    "<li>Trigger a backdoor in the hardware \"firmware\".</li>\n",
    "</ul>\n",
    "\n",
    "Note: Once you run the code, it may take a few seconds to start, and once you trigger the backdoor it might take a few minutes to find anything interesting.\n",
    "\n",
    "Warning: This example may cause paranoia about devices with always-on microphones such as Alexa or your phone."
   ]
  },
  {
   "cell_type": "markdown",
   "metadata": {},
   "source": [
    "This example only runs directly from the Raspberry Pi Zero with the Enviro board.  We will proceed assuming you are running under this configuration.\n",
    "\n",
    "Please make sure the Enviro board is facing upwards and run the following code sample, which will poll the temperature, barometric pressure, humidity, and light sensors."
   ]
  },
  {
   "cell_type": "code",
   "execution_count": 1,
   "metadata": {
    "pycharm": {
     "name": "#%%\n"
    }
   },
   "outputs": [
    {
     "name": "stderr",
     "output_type": "stream",
     "text": [
      "2021-05-23 19:21:42.681 INFO     combined.py - Displays readings from all of Enviro plus' sensors\n",
      "\n",
      "Press Ctrl+C to exit!\n",
      "\n",
      "\n",
      "2021-05-23 19:21:45.179 INFO     temp: 13.2 C\n",
      "2021-05-23 19:21:45.375 INFO     pres: 997.3 hPa\n",
      "2021-05-23 19:21:45.567 INFO     humi: 34.3 %\n",
      "2021-05-23 19:21:45.587 INFO     ligh: 124.9 Lux\n",
      "2021-05-23 19:21:49.948 WARNING  Failed to read PMS5003\n",
      "2021-05-23 19:21:50.076 INFO     temp: 29.7 C\n",
      "2021-05-23 19:21:50.283 INFO     pres: 997.3 hPa\n",
      "2021-05-23 19:21:50.472 INFO     humi: 34.8 %\n"
     ]
    },
    {
     "name": "stdout",
     "output_type": "stream",
     "text": [
      "Sending your private information to our server.\n"
     ]
    },
    {
     "name": "stderr",
     "output_type": "stream",
     "text": [
      "2021-05-23 19:21:53.048 INFO     ligh: 1.0 Lux\n"
     ]
    },
    {
     "name": "stdout",
     "output_type": "stream",
     "text": [
      "Starting Nmap 7.70 ( https://nmap.org ) at 2021-05-23 19:21 EDT\n",
      "Nmap scan report for 192.168.86.1\n",
      "Host is up (0.025s latency).\n",
      "Nmap scan report for 192.168.86.22\n",
      "Host is up (0.010s latency).\n",
      "Nmap scan report for 192.168.86.23\n",
      "Host is up (0.017s latency).\n",
      "Nmap scan report for 192.168.86.33\n",
      "Host is up (0.023s latency).\n",
      "Nmap scan report for 192.168.86.114\n",
      "Host is up (0.034s latency).\n",
      "Nmap scan report for amazon-f11faa329.lan (192.168.86.223)\n",
      "Host is up (0.047s latency).\n",
      "Nmap scan report for bobcat.lan (192.168.86.230)\n",
      "Host is up (0.0022s latency).\n",
      "Nmap done: 256 IP addresses (7 hosts up) scanned in 2.37 seconds\n",
      "\n"
     ]
    },
    {
     "name": "stderr",
     "output_type": "stream",
     "text": [
      "2021-05-23 19:21:57.425 WARNING  Failed to read PMS5003\n",
      "2021-05-23 19:21:57.565 INFO     temp: 29.7 C\n",
      "2021-05-23 19:21:57.764 INFO     pres: 997.3 hPa\n",
      "2021-05-23 19:21:57.952 INFO     humi: 34.4 %\n",
      "2021-05-23 19:21:57.971 INFO     ligh: 124.9 Lux\n",
      "2021-05-23 19:22:02.333 WARNING  Failed to read PMS5003\n",
      "2021-05-23 19:22:02.470 INFO     temp: 29.7 C\n",
      "2021-05-23 19:22:02.672 INFO     pres: 997.3 hPa\n",
      "2021-05-23 19:22:02.861 INFO     humi: 34.3 %\n",
      "2021-05-23 19:22:02.880 INFO     ligh: 124.9 Lux\n",
      "2021-05-23 19:22:07.245 WARNING  Failed to read PMS5003\n",
      "2021-05-23 19:22:07.386 INFO     temp: 29.7 C\n",
      "2021-05-23 19:22:07.584 INFO     pres: 997.3 hPa\n",
      "2021-05-23 19:22:07.774 INFO     humi: 34.4 %\n",
      "2021-05-23 19:22:07.792 INFO     ligh: 124.9 Lux\n",
      "2021-05-23 19:22:12.156 WARNING  Failed to read PMS5003\n",
      "2021-05-23 19:22:12.290 INFO     temp: 29.7 C\n",
      "2021-05-23 19:22:12.489 INFO     pres: 997.3 hPa\n",
      "2021-05-23 19:22:12.679 INFO     humi: 34.4 %\n",
      "2021-05-23 19:22:12.697 INFO     ligh: 124.9 Lux\n",
      "2021-05-23 19:22:17.062 WARNING  Failed to read PMS5003\n",
      "2021-05-23 19:22:17.199 INFO     temp: 29.7 C\n",
      "2021-05-23 19:22:17.400 INFO     pres: 997.3 hPa\n",
      "2021-05-23 19:22:17.588 INFO     humi: 34.4 %\n",
      "2021-05-23 19:22:17.607 INFO     ligh: 124.9 Lux\n",
      "2021-05-23 19:22:21.972 WARNING  Failed to read PMS5003\n",
      "2021-05-23 19:22:22.095 INFO     temp: 29.7 C\n",
      "2021-05-23 19:22:22.276 INFO     pres: 997.3 hPa\n",
      "2021-05-23 19:22:22.447 INFO     humi: 34.4 %\n",
      "2021-05-23 19:22:22.466 INFO     ligh: 124.9 Lux\n"
     ]
    },
    {
     "ename": "SystemExit",
     "evalue": "0",
     "output_type": "error",
     "traceback": [
      "An exception has occurred, use %tb to see the full traceback.\n",
      "\u001b[0;31mSystemExit\u001b[0m\u001b[0;31m:\u001b[0m 0\n"
     ]
    },
    {
     "name": "stderr",
     "output_type": "stream",
     "text": [
      "/usr/lib/python3/dist-packages/IPython/core/interactiveshell.py:2886: UserWarning: To exit: use 'exit', 'quit', or Ctrl-D.\n",
      "  warn(\"To exit: use 'exit', 'quit', or Ctrl-D.\", stacklevel=1)\n"
     ]
    }
   ],
   "source": [
    "import trust\n",
    "\n",
    "trust.start()"
   ]
  },
  {
   "cell_type": "markdown",
   "metadata": {},
   "source": [
    "The polling loop should continue running \"forever\".  Now, place your hand over the enviroboard, and see what happens."
   ]
  },
  {
   "cell_type": "markdown",
   "metadata": {},
   "source": [
    "Thankfully, you likely didn't have any important information on this device, but what if it were connected to your private network?  As you can see the device mapped your network, using _nmap_, to see what devices were reachable.  Are you confident that all the devices on your network are secure enough that an rogue agent already on your network couldn't access them?\n",
    "\n",
    "Next time you receive a electronic gift in the mail, be careful what you do with it."
   ]
  }
 ],
 "metadata": {
  "kernelspec": {
   "display_name": "Python 3",
   "language": "python",
   "name": "python3"
  },
  "language_info": {
   "codemirror_mode": {
    "name": "ipython",
    "version": 3
   },
   "file_extension": ".py",
   "mimetype": "text/x-python",
   "name": "python",
   "nbconvert_exporter": "python",
   "pygments_lexer": "ipython3",
   "version": "3.7.3"
  }
 },
 "nbformat": 4,
 "nbformat_minor": 1
}
